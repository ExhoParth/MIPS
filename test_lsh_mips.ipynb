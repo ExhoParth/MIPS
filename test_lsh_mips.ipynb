{
 "cells": [
  {
   "cell_type": "code",
   "execution_count": 10,
   "id": "0d839b9f-a2ab-40c0-b04c-04daa47685c5",
   "metadata": {},
   "outputs": [],
   "source": [
    "# Import necessary modules\n",
    "import numpy as np\n",
    "from algorithms.lsh_mips import LSH_MIPS\n",
    "from utils.constants import SCALING_TOPK, SCALING_NUM_HFUNC, SCALING_NUM_TABLES, ASYMMETRIC, SYMMETRIC\n",
    "\n"
   ]
  },
  {
   "cell_type": "code",
   "execution_count": 11,
   "id": "c761a9eb-9a47-4852-a1ee-6dc10c9d4832",
   "metadata": {},
   "outputs": [
    {
     "name": "stdout",
     "output_type": "stream",
     "text": [
      "Top 5 candidates: [33 29 92 28 90]\n",
      "Budget (number of computations): 6678\n"
     ]
    }
   ],
   "source": [
    "# Generate synthetic test data\n",
    "def generate_test_data(num_atoms, len_signal):\n",
    "    atoms = np.random.randn(num_atoms, len_signal)\n",
    "    signals = np.random.randn(1, len_signal)  # Single signal\n",
    "    return atoms, signals\n",
    "\n",
    "# Parameters for testing\n",
    "num_atoms = 100\n",
    "len_signal = 50\n",
    "atoms, signals = generate_test_data(num_atoms, len_signal)\n",
    "\n",
    "# Initialize LSH_MIPS object and test\n",
    "lsh_mips = LSH_MIPS(\n",
    "    m=3, \n",
    "    num_hfunc=5, \n",
    "    num_tables=10, \n",
    "    type=ASYMMETRIC\n",
    ")\n",
    "\n",
    "# Preprocess and run the LSH_MIPS algorithm\n",
    "lsh_mips.preprocess_data(atoms)\n",
    "lsh_mips.preprocess_query(signals[0])\n",
    "candidates, budget = lsh_mips.run(top_k=5)\n",
    "\n",
    "# Output results\n",
    "print(f\"Top 5 candidates: {candidates}\")\n",
    "print(f\"Budget (number of computations): {budget}\")\n"
   ]
  },
  {
   "cell_type": "code",
   "execution_count": 12,
   "id": "2754d541-7695-49a2-aaf1-dd939b847212",
   "metadata": {},
   "outputs": [
    {
     "name": "stdout",
     "output_type": "stream",
     "text": [
      "Accuracy of LSH_MIPS: 100.0%\n"
     ]
    }
   ],
   "source": [
    "# Naive method: Calculate the top k atoms based on the highest inner product with the signal\n",
    "inner_products = np.dot(atoms, signals[0])\n",
    "top_k_naive = np.argsort(inner_products)[-5:]  # Get the indices of top 5 atoms\n",
    "\n",
    "# Evaluate accuracy\n",
    "accuracy = len(np.intersect1d(candidates, top_k_naive)) / 5\n",
    "print(f\"Accuracy of LSH_MIPS: {accuracy * 100}%\")\n"
   ]
  },
  {
   "cell_type": "code",
   "execution_count": null,
   "id": "8c33617f-e4b0-48f6-9caf-11bd00334a3f",
   "metadata": {},
   "outputs": [],
   "source": []
  },
  {
   "cell_type": "code",
   "execution_count": null,
   "id": "c0cc0527-9c68-4df1-983c-93554d1ce6f6",
   "metadata": {},
   "outputs": [],
   "source": []
  }
 ],
 "metadata": {
  "kernelspec": {
   "display_name": "Python 3 (ipykernel)",
   "language": "python",
   "name": "python3"
  },
  "language_info": {
   "codemirror_mode": {
    "name": "ipython",
    "version": 3
   },
   "file_extension": ".py",
   "mimetype": "text/x-python",
   "name": "python",
   "nbconvert_exporter": "python",
   "pygments_lexer": "ipython3",
   "version": "3.9.7"
  }
 },
 "nbformat": 4,
 "nbformat_minor": 5
}
