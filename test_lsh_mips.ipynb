{
 "cells": [
  {
   "cell_type": "code",
   "execution_count": 58,
   "id": "0d839b9f-a2ab-40c0-b04c-04daa47685c5",
   "metadata": {},
   "outputs": [],
   "source": [
    "# Import necessary modules\n",
    "import numpy as np\n",
    "from algorithms.lsh_mips import LSH_MIPS\n",
    "from utils.constants import SCALING_TOPK, SCALING_NUM_HFUNC, SCALING_NUM_TABLES, ASYMMETRIC, SYMMETRIC\n",
    "\n"
   ]
  },
  {
   "cell_type": "code",
   "execution_count": 59,
   "id": "c761a9eb-9a47-4852-a1ee-6dc10c9d4832",
   "metadata": {},
   "outputs": [
    {
     "name": "stdout",
     "output_type": "stream",
     "text": [
      "Top 5 candidates: [62 17 14  8 35]\n",
      "Budget (number of computations): 6572\n"
     ]
    }
   ],
   "source": [
    "# Generate synthetic test data\n",
    "def generate_test_data(num_atoms, len_signal):\n",
    "    atoms = np.random.randn(num_atoms, len_signal)\n",
    "    signals = np.random.randn(1, len_signal)  # Single signal\n",
    "    return atoms, signals\n",
    "\n",
    "# Parameters for testing\n",
    "num_atoms = 100\n",
    "len_signal = 50\n",
    "atoms, signals = generate_test_data(num_atoms, len_signal)\n",
    "\n",
    "# Initialize LSH_MIPS object and test\n",
    "lsh_mips = LSH_MIPS(\n",
    "    m=3, \n",
    "    num_hfunc=5, \n",
    "    num_tables=10, \n",
    "    type=ASYMMETRIC\n",
    ")\n",
    "\n",
    "# Preprocess and run the LSH_MIPS algorithm\n",
    "lsh_mips.preprocess_data(atoms)\n",
    "lsh_mips.preprocess_query(signals[0])\n",
    "candidates, budget = lsh_mips.run(top_k=5)\n",
    "\n",
    "# Output results\n",
    "print(f\"Top 5 candidates: {candidates}\")\n",
    "print(f\"Budget (number of computations): {budget}\")\n"
   ]
  },
  {
   "cell_type": "code",
   "execution_count": 60,
   "id": "2754d541-7695-49a2-aaf1-dd939b847212",
   "metadata": {},
   "outputs": [
    {
     "name": "stdout",
     "output_type": "stream",
     "text": [
      "Accuracy of LSH_MIPS: 80.0%\n"
     ]
    }
   ],
   "source": [
    "# Naive method: Calculate the top k atoms based on the highest inner product with the signal\n",
    "inner_products = np.dot(atoms, signals[0])\n",
    "top_k_naive = np.argsort(inner_products)[-5:]  # Get the indices of top 5 atoms\n",
    "\n",
    "# Evaluate accuracy\n",
    "accuracy = len(np.intersect1d(candidates, top_k_naive)) / 5\n",
    "print(f\"Accuracy of LSH_MIPS: {accuracy * 100}%\")\n"
   ]
  },
  {
   "cell_type": "code",
   "execution_count": null,
   "id": "8c33617f-e4b0-48f6-9caf-11bd00334a3f",
   "metadata": {},
   "outputs": [],
   "source": []
  },
  {
   "cell_type": "markdown",
   "id": "f49fce0c",
   "metadata": {},
   "source": [
    "Movie Lens 100k"
   ]
  },
  {
   "cell_type": "code",
   "execution_count": 61,
   "id": "c0cc0527-9c68-4df1-983c-93554d1ce6f6",
   "metadata": {},
   "outputs": [
    {
     "name": "stdout",
     "output_type": "stream",
     "text": [
      "Top 10 candidates: [469 235  98  41  66 126 225 187 127 542]\n",
      "Budget (number of computations): 89941\n",
      "Accuracy compared to naive method: 90.0%\n"
     ]
    }
   ],
   "source": [
    "import numpy as np\n",
    "from sklearn.decomposition import TruncatedSVD\n",
    "from algorithms.lsh_mips import LSH_MIPS\n",
    "from sklearn.metrics.pairwise import cosine_similarity\n",
    "from surprise import Dataset, Reader\n",
    "from surprise.model_selection import train_test_split\n",
    "\n",
    "# Load the MovieLens dataset (100k version for simplicity)\n",
    "reader = Reader(line_format='user item rating timestamp', sep='\\t')\n",
    "data = Dataset.load_builtin('ml-100k')\n",
    "trainset, testset = train_test_split(data, test_size=0.2)\n",
    "\n",
    "# Build a user-item matrix\n",
    "user_item_matrix = np.zeros((trainset.n_users, trainset.n_items))\n",
    "for uid, iid, rating in trainset.all_ratings():\n",
    "    user_item_matrix[int(uid), int(iid)] = rating\n",
    "\n",
    "# Use SVD to reduce dimensionality\n",
    "svd = TruncatedSVD(n_components=50)\n",
    "atoms = svd.fit_transform(user_item_matrix.T)  # Transpose to get item embeddings\n",
    "\n",
    "# Create a signal (simulate a user's preference vector)\n",
    "user_id = 0  # Choose a user ID from the dataset\n",
    "user_ratings = user_item_matrix[user_id]\n",
    "signal = np.dot(user_ratings, atoms)  # Weighted average of rated item embeddings\n",
    "\n",
    "# Initialize and run LSH_MIPS\n",
    "lsh_mips = LSH_MIPS(m=3, num_hfunc=5, num_tables=10, type=\"ASYMMETRIC\")\n",
    "lsh_mips.preprocess_data(atoms)\n",
    "lsh_mips.preprocess_query(signal)\n",
    "\n",
    "# Get top 5 candidates\n",
    "top_k = 10\n",
    "candidates, budget = lsh_mips.run(top_k=top_k)\n",
    "\n",
    "# Compare with naive method for evaluation\n",
    "inner_products = np.dot(atoms, signal)\n",
    "top_k_naive = np.argsort(inner_products)[-top_k:]\n",
    "\n",
    "accuracy = len(np.intersect1d(candidates, top_k_naive)) / top_k\n",
    "print(f\"Top {top_k} candidates: {candidates}\")\n",
    "print(f\"Budget (number of computations): {budget}\")\n",
    "print(f\"Accuracy compared to naive method: {accuracy * 100}%\")\n"
   ]
  },
  {
   "cell_type": "code",
   "execution_count": 62,
   "id": "a2c22692",
   "metadata": {},
   "outputs": [
    {
     "data": {
      "text/plain": [
       "943"
      ]
     },
     "execution_count": 62,
     "metadata": {},
     "output_type": "execute_result"
    }
   ],
   "source": [
    "len(user_item_matrix)"
   ]
  },
  {
   "cell_type": "markdown",
   "id": "17dac07e",
   "metadata": {},
   "source": [
    "Movie Lens 1M"
   ]
  },
  {
   "cell_type": "code",
   "execution_count": 63,
   "id": "19d97464",
   "metadata": {},
   "outputs": [
    {
     "name": "stdout",
     "output_type": "stream",
     "text": [
      "Top 10 candidates: [222  57 564 808  95 563 232 646 562 681]\n",
      "Budget (number of computations): 196153\n",
      "Accuracy compared to naive method: 100.0%\n"
     ]
    }
   ],
   "source": [
    "import numpy as np\n",
    "from sklearn.decomposition import TruncatedSVD\n",
    "from algorithms.lsh_mips import LSH_MIPS\n",
    "from sklearn.metrics.pairwise import cosine_similarity\n",
    "from surprise import Dataset, Reader\n",
    "from surprise.model_selection import train_test_split\n",
    "\n",
    "# Load the MovieLens dataset (100k version for simplicity)\n",
    "reader = Reader(line_format='user item rating timestamp', sep='\\t')\n",
    "data = Dataset.load_builtin('ml-1m')\n",
    "trainset, testset = train_test_split(data, test_size=0.2)\n",
    "\n",
    "# Build a user-item matrix\n",
    "user_item_matrix = np.zeros((trainset.n_users, trainset.n_items))\n",
    "for uid, iid, rating in trainset.all_ratings():\n",
    "    user_item_matrix[int(uid), int(iid)] = rating\n",
    "\n",
    "# Use SVD to reduce dimensionality\n",
    "svd = TruncatedSVD(n_components=50)\n",
    "atoms = svd.fit_transform(user_item_matrix.T)  # Transpose to get item embeddings\n",
    "\n",
    "# Create a signal (simulate a user's preference vector)\n",
    "user_id = 6039  # Choose a user ID from the dataset\n",
    "user_ratings = user_item_matrix[user_id]\n",
    "signal = np.dot(user_ratings, atoms)  # Weighted average of rated item embeddings\n",
    "\n",
    "# Initialize and run LSH_MIPS\n",
    "lsh_mips = LSH_MIPS(m=3, num_hfunc=5, num_tables=10, type=\"ASYMMETRIC\")\n",
    "lsh_mips.preprocess_data(atoms)\n",
    "lsh_mips.preprocess_query(signal)\n",
    "\n",
    "# Get top 5 candidates\n",
    "top_k = 10\n",
    "candidates, budget = lsh_mips.run(top_k=top_k)\n",
    "\n",
    "# Compare with naive method for evaluation\n",
    "inner_products = np.dot(atoms, signal)\n",
    "top_k_naive = np.argsort(inner_products)[-top_k:]\n",
    "\n",
    "accuracy = len(np.intersect1d(candidates, top_k_naive)) / top_k\n",
    "print(f\"Top {top_k} candidates: {candidates}\")\n",
    "print(f\"Budget (number of computations): {budget}\")\n",
    "print(f\"Accuracy compared to naive method: {accuracy * 100}%\")\n"
   ]
  },
  {
   "cell_type": "code",
   "execution_count": 64,
   "id": "b59563fe",
   "metadata": {},
   "outputs": [
    {
     "data": {
      "text/plain": [
       "6040"
      ]
     },
     "execution_count": 64,
     "metadata": {},
     "output_type": "execute_result"
    }
   ],
   "source": [
    "len(user_item_matrix)"
   ]
  },
  {
   "cell_type": "markdown",
   "id": "60c98d70",
   "metadata": {},
   "source": [
    "Netflix Dataset"
   ]
  },
  {
   "cell_type": "code",
   "execution_count": 65,
   "id": "041e448c",
   "metadata": {},
   "outputs": [
    {
     "name": "stdout",
     "output_type": "stream",
     "text": [
      "Top 10 candidates: [ 738 1171   46 1274  559 1305  305  179  314  217]\n",
      "Budget (number of computations): 141522\n",
      "Accuracy compared to naive method: 90.0%\n"
     ]
    }
   ],
   "source": [
    "import numpy as np\n",
    "from algorithms.lsh_mips import LSH_MIPS\n",
    "\n",
    "# Load preprocessed factors and biases\n",
    "movie_factors = np.load(\"data/netflix/Movie_factors_15_new.npy\")\n",
    "movie_biases = np.load(\"data/netflix/Movie_biases_15_new.npy\")\n",
    "customer_factors = np.load(\"data/netflix/Customer_factors_15_new.npy\")\n",
    "customer_biases = np.load(\"data/netflix/Customer_biases_15_new.npy\")\n",
    "global_mean = np.load(\"data/netflix/netflix_global_mean.npy\")\n",
    "\n",
    "# Use movie factors as atoms for LSH-MIPS\n",
    "atoms = movie_factors\n",
    "\n",
    "# Choose a specific user\n",
    "user_id = 0  # Replace with the desired user ID (index-based, starting at 0)\n",
    "user_factors = customer_factors[user_id]\n",
    "user_bias = customer_biases[user_id]\n",
    "\n",
    "# Construct the user preference signal\n",
    "signal = user_factors  # Optionally, add user_bias and global_mean if needed for personalization\n",
    "\n",
    "# Initialize and run LSH-MIPS\n",
    "lsh_mips = LSH_MIPS(m=3, num_hfunc=5, num_tables=10, type=\"ASYMMETRIC\")\n",
    "lsh_mips.preprocess_data(atoms)\n",
    "lsh_mips.preprocess_query(signal)\n",
    "\n",
    "# Get top 10 similar movies\n",
    "top_k = 10\n",
    "candidates, budget = lsh_mips.run(top_k=top_k)\n",
    "\n",
    "# Naive method for evaluation (optional)\n",
    "inner_products = np.dot(atoms, signal)\n",
    "top_k_naive = np.argsort(inner_products)[-top_k:]\n",
    "\n",
    "# Evaluate accuracy\n",
    "accuracy = len(np.intersect1d(candidates, top_k_naive)) / top_k\n",
    "print(f\"Top {top_k} candidates: {candidates}\")\n",
    "print(f\"Budget (number of computations): {budget}\")\n",
    "print(f\"Accuracy compared to naive method: {accuracy * 100}%\")\n"
   ]
  },
  {
   "cell_type": "code",
   "execution_count": 66,
   "id": "f15e823f",
   "metadata": {},
   "outputs": [
    {
     "data": {
      "text/plain": [
       "array([ 217,   24,  305, 1305, 1171,  314,  559,   46,  738, 1274],\n",
       "      dtype=int64)"
      ]
     },
     "execution_count": 66,
     "metadata": {},
     "output_type": "execute_result"
    }
   ],
   "source": [
    "top_k_naive"
   ]
  },
  {
   "cell_type": "markdown",
   "id": "7b6ebb18",
   "metadata": {},
   "source": [
    "Crypto-Pairs"
   ]
  },
  {
   "cell_type": "code",
   "execution_count": 69,
   "id": "c7449766",
   "metadata": {},
   "outputs": [
    {
     "name": "stdout",
     "output_type": "stream",
     "text": [
      "Top 10 candidates: [2]\n",
      "Budget (number of computations): 2756\n",
      "Accuracy compared to naive method: 10.00%\n"
     ]
    }
   ],
   "source": [
    "import numpy as np\n",
    "from sklearn.decomposition import TruncatedSVD\n",
    "from algorithms.lsh_mips import LSH_MIPS\n",
    "\n",
    "# Load the preprocessed dataset\n",
    "dataset_path = \"data\\crypto_pairs\\crypto_pairs_1m_dimensions.npy\"  # Path to the saved .npy file\n",
    "crypto_data = np.load(dataset_path, allow_pickle=True)\n",
    "\n",
    "# Step 1: Use Truncated SVD to reduce dimensionality (if necessary)\n",
    "svd = TruncatedSVD(n_components=50)  # Reduce to 50 dimensions\n",
    "atoms = svd.fit_transform(crypto_data)  # The reduced dataset\n",
    "\n",
    "# Step 2: Create a query signal\n",
    "# Example: Use the first crypto pair as the query vector\n",
    "query_index = 0\n",
    "signal = atoms[query_index]  # A single crypto pair's embedding\n",
    "\n",
    "# Step 3: Initialize and run LSH-MIPS\n",
    "lsh_mips = LSH_MIPS(m=3, num_hfunc=5, num_tables=10, type=\"ASYMMETRIC\")\n",
    "lsh_mips.preprocess_data(atoms)  # Preprocess the dataset\n",
    "lsh_mips.preprocess_query(signal)  # Preprocess the query vector\n",
    "\n",
    "# Step 4: Retrieve top-k candidates\n",
    "top_k = 10\n",
    "candidates, budget = lsh_mips.run(top_k=top_k)\n",
    "\n",
    "# Step 5: Evaluate with naive method for comparison\n",
    "inner_products = np.dot(atoms, signal)\n",
    "top_k_naive = np.argsort(inner_products)[-top_k:]\n",
    "\n",
    "# Compare results\n",
    "accuracy = len(np.intersect1d(candidates, top_k_naive)) / top_k\n",
    "print(f\"Top {top_k} candidates: {candidates}\")\n",
    "print(f\"Budget (number of computations): {budget}\")\n",
    "print(f\"Accuracy compared to naive method: {accuracy * 100:.2f}%\")\n"
   ]
  },
  {
   "cell_type": "code",
   "execution_count": 70,
   "id": "b65465e9",
   "metadata": {},
   "outputs": [
    {
     "data": {
      "text/plain": [
       "array([ 49,  57, 104,  35,  97,  58,   2,  51,  28,  13], dtype=int64)"
      ]
     },
     "execution_count": 70,
     "metadata": {},
     "output_type": "execute_result"
    }
   ],
   "source": [
    "top_k_naive"
   ]
  },
  {
   "cell_type": "code",
   "execution_count": null,
   "id": "92172a7d",
   "metadata": {},
   "outputs": [],
   "source": []
  }
 ],
 "metadata": {
  "kernelspec": {
   "display_name": "Python 3",
   "language": "python",
   "name": "python3"
  },
  "language_info": {
   "codemirror_mode": {
    "name": "ipython",
    "version": 3
   },
   "file_extension": ".py",
   "mimetype": "text/x-python",
   "name": "python",
   "nbconvert_exporter": "python",
   "pygments_lexer": "ipython3",
   "version": "3.9.7"
  }
 },
 "nbformat": 4,
 "nbformat_minor": 5
}
