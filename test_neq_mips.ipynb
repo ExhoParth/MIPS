{
 "cells": [
  {
   "cell_type": "code",
   "execution_count": 12,
   "metadata": {},
   "outputs": [],
   "source": [
    "import time\n",
    "import numpy as np\n",
    "import matplotlib.pyplot as plt\n",
    "from typing import Tuple\n",
    "from quantization.norm_pq import NormPQ\n",
    "from quantization.residual_pq import ResidualPQ\n",
    "from quantization.base_pq import PQ\n",
    "from quantization.utils import execute\n",
    "\n",
    "\n",
    "from quantization.constants import (\n",
    "    PARTITION,\n",
    "    NUM_CODEBOOKS,\n",
    "    NUM_CODEWORDS,\n",
    ")\n"
   ]
  },
  {
   "cell_type": "code",
   "execution_count": 13,
   "metadata": {},
   "outputs": [],
   "source": [
    "def generate_data(\n",
    "    num_atoms: int = 10**3,\n",
    "    len_signal: int = 10**4,\n",
    "    num_signals: int = 1,\n",
    "    num_best_atoms: int =5,\n",
    "    seed: int = 0,\n",
    ") -> Tuple[np.ndarray, np.ndarray]:\n",
    "\n",
    "\t\n",
    "    rng = np.random.default_rng(seed)\n",
    "    atoms_array = np.empty((num_atoms, len_signal))\n",
    "    means = rng.normal(size=num_atoms)\n",
    "    atoms_array = np.empty((num_atoms, len_signal))\n",
    "    for idx in range(num_atoms):\n",
    "      atoms_array[idx] = rng.normal(loc=means[idx], size=len_signal)\n",
    "    signal = rng.normal(loc=rng.normal(), size=(num_signals, len_signal))\n",
    "    if num_signals == 1:\n",
    "        signal = signal.reshape(1,-1)\n",
    "\n",
    "    return atoms_array, signal"
   ]
  },
  {
   "cell_type": "code",
   "execution_count": 14,
   "metadata": {},
   "outputs": [],
   "source": [
    "def sample_complexity(dimension):\n",
    "\n",
    "    seed = 3\n",
    "    num_best_atoms = 10\n",
    "\n",
    "    atoms, signals = generate_data(num_atoms=1000, len_signal=dimension)\n",
    "\n",
    "    naive_candidates_array = (\n",
    "                np.matmul(atoms, signals.transpose())\n",
    "                .argsort(axis=0)[:num_best_atoms]\n",
    "                .transpose()\n",
    "            )\n",
    "\n",
    "    pqs = [\n",
    "    PQ(M=PARTITION, Ks=NUM_CODEWORDS) for _ in range(NUM_CODEBOOKS - 1)\n",
    "    ]\n",
    "    quantizer = ResidualPQ(pqs=pqs)\n",
    "    quantizer = NormPQ(n_percentile=NUM_CODEWORDS, quantize=quantizer)\n",
    "    start_time = time.time()\n",
    "\n",
    "    candidates_array, budget_array,runtime = execute(\n",
    "        seed=seed,\n",
    "        top_k=num_best_atoms,\n",
    "        pq=quantizer,\n",
    "        X=atoms,\n",
    "        Q=signals.astype(\"float32\"),\n",
    "        G=naive_candidates_array,\n",
    "        num_codebooks=NUM_CODEBOOKS,\n",
    "        num_codewords=NUM_CODEWORDS,\n",
    "        train_size=atoms.shape[0],\n",
    "    )\n",
    "    # includes the time finding recall (other baselines don't)\n",
    "    runtime = time.time() - start_time\n",
    "    \n",
    "    return runtime\n"
   ]
  },
  {
   "cell_type": "code",
   "execution_count": 7,
   "metadata": {},
   "outputs": [
    {
     "name": "stderr",
     "output_type": "stream",
     "text": [
      "/home/dhair/progrms/DaiictSem3/IR/project/toUpload/quantization/base_pq.py:50: UserWarning: One of the clusters is empty. Re-run kmeans with a different initialization.\n",
      "  self.codewords[m, :, :self.Ds[m+1] - self.Ds[m]], _ = kmeans2(vecs_sub, self.Ks, iter=iter, minit='points')\n"
     ]
    },
    {
     "name": "stdout",
     "output_type": "stream",
     "text": [
      "speedup=2.5136810602821718\n",
      "precision=80\n"
     ]
    }
   ],
   "source": [
    "seed = 0\n",
    "num_best_atoms = 190\n",
    "atoms, signals = generate_data(num_atoms=300, len_signal=100000, num_best_atoms=num_best_atoms)\n",
    "\n",
    "begin = time.time()\n",
    "naive_candidates_array = np.matmul(atoms, signals.transpose())\n",
    "naive_candidates_array = naive_candidates_array.argsort(axis=0).transpose()\n",
    "naive_time = time.time()-begin\n",
    "\n",
    "pqs = [\n",
    "    PQ(M=PARTITION, Ks=NUM_CODEWORDS) for _ in range(NUM_CODEBOOKS - 1)\n",
    "]\n",
    "quantizer = ResidualPQ(pqs=pqs)\n",
    "quantizer = NormPQ(n_percentile=NUM_CODEWORDS, quantize=quantizer)\n",
    "\n",
    "start_time = time.time()\n",
    "candidates_array, budget_array,runtime = execute(\n",
    "    seed=seed,\n",
    "    top_k=num_best_atoms,\n",
    "    pq=quantizer,\n",
    "    X=atoms,\n",
    "    Q=signals.astype(\"float32\"),\n",
    "    G=naive_candidates_array,\n",
    "    num_codebooks=NUM_CODEBOOKS,\n",
    "    num_codewords=NUM_CODEWORDS,\n",
    "    train_size=atoms.shape[0],\n",
    ")\n",
    "# includes the time finding recall (other baselines don't)\n",
    "# runtime = time.time() - start_time\n",
    "\n",
    "\n",
    "print(f\"speedup={naive_time/runtime}\")\n",
    "intersection = np.intersect1d(candidates_array[0], naive_candidates_array[0,:num_best_atoms])\n",
    "precision = len(intersection)\n",
    "print(f\"precision={precision}\")\n"
   ]
  },
  {
   "cell_type": "code",
   "execution_count": 10,
   "metadata": {},
   "outputs": [
    {
     "name": "stderr",
     "output_type": "stream",
     "text": [
      "/home/dhair/progrms/DaiictSem3/IR/project/toUpload/quantization/base_pq.py:50: UserWarning: One of the clusters is empty. Re-run kmeans with a different initialization.\n",
      "  self.codewords[m, :, :self.Ds[m+1] - self.Ds[m]], _ = kmeans2(vecs_sub, self.Ks, iter=iter, minit='points')\n"
     ]
    },
    {
     "data": {
      "image/png": "[encoded data removed]",
      "text/plain": [
       "<Figure size 640x480 with 1 Axes>"
      ]
     },
     "metadata": {},
     "output_type": "display_data"
    }
   ],
   "source": [
    "dimensions = [2**i for i in range(3,15)]\n",
    "sample_comp  = []\n",
    "for dimension in dimensions:\n",
    "    sample_comp.append(sample_complexity(dimension))\n",
    "\n",
    "plt.plot(dimensions,sample_comp)\n",
    "plt.xlabel(\"Dimension of vectors\")\n",
    "plt.ylabel(\"Sample complexity\")\n",
    "\n",
    "plt.show()"
   ]
  },
  {
   "cell_type": "markdown",
   "metadata": {},
   "source": [
    "MovieLens Data"
   ]
  },
  {
   "cell_type": "code",
   "execution_count": null,
   "metadata": {},
   "outputs": [
    {
     "name": "stdout",
     "output_type": "stream",
     "text": [
      "Top 10 candidates (indices):\n",
      "[ 31.  95. 353. 455. 118. 268. 514. 152. 338. 187.]\n",
      "Total complexity: 19423.025850929942\n",
      "Top 10 candidates using naive approach (indices): [ 31  95 187 514 152 353 268 338 511 165]\n",
      "Accuracy compared to naive method: 80.00%\n",
      "Speedup ratio: 9.47 times faster than naive computation.\n"
     ]
    }
   ],
   "source": [
    "import numpy as np\n",
    "from sklearn.decomposition import TruncatedSVD\n",
    "from surprise import Dataset, Reader\n",
    "from surprise.model_selection import train_test_split\n",
    "\n",
    "# Load the MovieLens dataset (100k version for simplicity)\n",
    "reader = Reader(line_format='user item rating timestamp', sep='\\t')\n",
    "data = Dataset.load_builtin('ml-1m')\n",
    "trainset, testset = train_test_split(data, test_size=0.2)\n",
    "\n",
    "# Build a user-item matrix\n",
    "user_item_matrix = np.zeros((trainset.n_users, trainset.n_items))\n",
    "for uid, iid, rating in trainset.all_ratings():\n",
    "    user_item_matrix[int(uid), int(iid)] = rating\n",
    "\n",
    "# Use SVD to reduce dimensionality\n",
    "svd = TruncatedSVD(n_components=50)\n",
    "atoms = svd.fit_transform(user_item_matrix.T)  # Transpose to get item embeddings\n",
    "\n",
    "# Create a signal (simulate a user's preference vector)\n",
    "user_id = 0  # Choose a user ID from the dataset\n",
    "user_ratings = user_item_matrix[user_id]\n",
    "signal = np.dot(user_ratings, atoms)  # Weighted average of rated item embeddings\n",
    "signals = signal[np.newaxis, :]  # Ensure signal has 2D shape for batch processing\n",
    "\n",
    "# Initialize Greedy MIPS parameters\n",
    "budget = 10  # Number of candidates to screen\n",
    "num_best_atoms = 10  # Top-k items to retrieve\n",
    "\n",
    "# Run neq MIPS\n",
    "pqs = [\n",
    "    PQ(M=PARTITION, Ks=NUM_CODEWORDS) for _ in range(NUM_CODEBOOKS - 1)\n",
    "]\n",
    "quantizer = ResidualPQ(pqs=pqs)\n",
    "quantizer = NormPQ(n_percentile=NUM_CODEWORDS, quantize=quantizer)\n",
    "\n",
    "start_time = time.time()\n",
    "candidates, sample_complexity,runtime = execute(\n",
    "    seed=seed,\n",
    "    top_k=num_best_atoms,\n",
    "    pq=quantizer,\n",
    "    X=atoms,\n",
    "    Q=signals.astype(\"float32\"),\n",
    "    G=naive_candidates_array,\n",
    "    num_codebooks=NUM_CODEBOOKS,\n",
    "    num_codewords=NUM_CODEWORDS,\n",
    "    train_size=atoms.shape[0],\n",
    ")\n",
    "\n",
    "# Output results\n",
    "print(f\"Top {num_best_atoms} candidates (indices):\\n{candidates[0]}\")\n",
    "print(f\"Total complexity: {sample_complexity[0]}\")\n",
    "\n",
    "# Naive approach for validation\n",
    "inner_products = np.dot(atoms, signal)\n",
    "top_k_naive = np.argsort(inner_products)[-num_best_atoms:][::-1]\n",
    "print(f\"Top {num_best_atoms} candidates using naive approach (indices): {top_k_naive}\")\n",
    "\n",
    "# Compare results\n",
    "accuracy = len(np.intersect1d(candidates[0], top_k_naive)) / num_best_atoms\n",
    "print(f\"Accuracy compared to naive method: {accuracy * 100:.2f}%\")\n",
    "\n",
    "# Compute speedup ratio\n",
    "total_naive_computations = atoms.shape[0] * atoms.shape[1]\n",
    "average_complexity = sample_complexity.mean()\n",
    "speedup_ratio = total_naive_computations / average_complexity\n",
    "print(f\"Speedup ratio: {speedup_ratio:.2f} times faster than naive computation.\")"
   ]
  }
 ],
 "metadata": {
  "kernelspec": {
   "display_name": "Python 3",
   "language": "python",
   "name": "python3"
  },
  "language_info": {
   "codemirror_mode": {
    "name": "ipython",
    "version": 3
   },
   "file_extension": ".py",
   "mimetype": "text/x-python",
   "name": "python",
   "nbconvert_exporter": "python",
   "pygments_lexer": "ipython3",
   "version": "3.10.12"
  }
 },
 "nbformat": 4,
 "nbformat_minor": 4
}
