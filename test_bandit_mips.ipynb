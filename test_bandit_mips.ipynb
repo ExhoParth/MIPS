{
 "cells": [
  {
   "cell_type": "code",
   "execution_count": null,
   "metadata": {},
   "outputs": [],
   "source": [
    "import numpy as np\n",
    "import numba as nb\n",
    "from numba import typed\n",
    "\n",
    "from utils.utils import subset_2d, subset_2d_cached\n",
    "from utils.bandit_utils import get_ci"
   ]
  },
  {
   "cell_type": "code",
   "execution_count": null,
   "metadata": {},
   "outputs": [],
   "source": [
    "from algorithms.bandit_mips import action_elimination\n",
    "\n",
    "# Constants\n",
    "BATCH_SIZE = 50\n",
    "HOEFFDING = 1.96  # Example constant for CI bound\n",
    "SCALING_NUM_ATOMS = 5\n",
    "\n",
    "# # Mock utility functions\n",
    "# @nb.njit\n",
    "# def subset_2d(array, rows, columns):\n",
    "#     return array[rows][:, columns]\n",
    "\n",
    "# @nb.njit\n",
    "# def subset_2d_cached(source_array, rows, columns, use_cache, cache, cache_tracker, cache_map):\n",
    "#     return source_array[rows][:, columns], len(rows) * len(columns), cache, cache_tracker, cache_map, 0\n",
    "\n",
    "# def get_ci(delta, var_proxy, ci_bound, num_samples, pop_size, with_replacement):\n",
    "#     return ci_bound * np.sqrt(var_proxy / num_samples)\n",
    "\n",
    "# Synthetic data generation\n",
    "def x(num_atoms=100, signal_dim=200, num_signals=10):\n",
    "    atoms = np.random.rand(num_atoms, signal_dim)  # Atom features\n",
    "    signals = np.random.rand(num_signals, signal_dim)  # Signals\n",
    "    var_proxy = np.var(signals, axis=1)  # Variance proxy\n",
    "    maxmin = np.array([np.max(signals), np.min(signals)])  # Max and min for scaling\n",
    "    return atoms, signals, var_proxy, maxmin\n",
    "\n",
    "# Generate dataset\n",
    "atoms, signals, var_proxy, maxmin = generate_synthetic_data()\n",
    "\n",
    "# Run the algorithm\n",
    "candidates_array, budgets_array, cache, cache_tracker, cache_map = action_elimination(\n",
    "    atoms=atoms,\n",
    "    signals=signals,\n",
    "    var_proxy=var_proxy,\n",
    "    maxmin=maxmin,\n",
    "    epsilon=0.1,\n",
    "    delta=0.05,\n",
    "    var_proxy_override=False,\n",
    "    num_best_atoms=2,\n",
    "    abs=False,\n",
    "    verbose=True,\n",
    "    with_replacement=False,\n",
    "    batch_size=BATCH_SIZE,\n",
    "    seed=42,\n",
    "    use_cache=False,\n",
    "    permutation=np.arange(atoms.shape[1]),\n",
    "    cache=np.empty((atoms.shape[0], atoms.shape[1])),\n",
    "    cache_tracker=np.zeros(atoms.shape[0], dtype=np.int64),\n",
    "    cache_map=typed.List([typed.Dict.empty(key_type=nb.int64, value_type=nb.int64) for _ in range(atoms.shape[0])]),\n",
    ")\n",
    "\n",
    "print(\"Selected Candidates:\", candidates_array)\n",
    "print(\"Budgets Used:\", budgets_array)\n"
   ]
  }
 ],
 "metadata": {
  "kernelspec": {
   "display_name": ".venv",
   "language": "python",
   "name": "python3"
  },
  "language_info": {
   "codemirror_mode": {
    "name": "ipython",
    "version": 3
   },
   "file_extension": ".py",
   "mimetype": "text/x-python",
   "name": "python",
   "nbconvert_exporter": "python",
   "pygments_lexer": "ipython3",
   "version": "3.11.5"
  }
 },
 "nbformat": 4,
 "nbformat_minor": 2
}
